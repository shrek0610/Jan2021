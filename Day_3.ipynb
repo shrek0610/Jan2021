{
  "nbformat": 4,
  "nbformat_minor": 0,
  "metadata": {
    "colab": {
      "name": "Copy_of_LetsUpgrade_Day_3_Assignment.ipynb",
      "provenance": [],
      "collapsed_sections": [],
      "include_colab_link": true
    },
    "kernelspec": {
      "name": "python3",
      "display_name": "Python 3"
    }
  },
  "cells": [
    {
      "cell_type": "markdown",
      "metadata": {
        "id": "view-in-github",
        "colab_type": "text"
      },
      "source": [
        "<a href=\"https://colab.research.google.com/github/shrek0610/Jan2021/blob/main/Copy_of_LetsUpgrade_Day_3_Assignment.ipynb\" target=\"_parent\"><img src=\"https://colab.research.google.com/assets/colab-badge.svg\" alt=\"Open In Colab\"/></a>"
      ]
    },
    {
      "cell_type": "markdown",
      "metadata": {
        "id": "wKSFAW3FeD57"
      },
      "source": [
        "Question 1\n",
        " \n",
        "Write a Python program to remove duplicates from a list\n",
        "Question 2\n",
        "Write a Python program to get the difference between the two list"
      ]
    },
    {
      "cell_type": "code",
      "metadata": {
        "id": "lFo8SGsaeKiL",
        "colab": {
          "base_uri": "https://localhost:8080/"
        },
        "outputId": "8e6a302f-0b6f-4f93-fe60-d91a5d9b87ae"
      },
      "source": [
        " \n",
        "duplicate = [1,2,3,4,5,3,4,5,6]\n",
        "print(set(duplicate))"
      ],
      "execution_count": 4,
      "outputs": [
        {
          "output_type": "stream",
          "text": [
            "{1, 2, 3, 4, 5, 6}\n"
          ],
          "name": "stdout"
        }
      ]
    },
    {
      "cell_type": "markdown",
      "metadata": {
        "id": "kY0Ca4s0ek7h"
      },
      "source": [
        " Question 2\n",
        "\n",
        "Write a Python program to get the difference between the two lists"
      ]
    },
    {
      "cell_type": "code",
      "metadata": {
        "id": "dVqLgDupd_ea",
        "colab": {
          "base_uri": "https://localhost:8080/"
        },
        "outputId": "7eb49447-5821-440e-a284-b713496cf23e"
      },
      "source": [
        "list1 = (1,2,3,4,5,7)\n",
        "list2=(1,2,3,4,5,8)\n",
        "diff_list1_list2 = list(set(list1) - set(list2))\n",
        "diff_list2_list1 = list(set(list2) - set(list1))\n",
        "total_diff = diff_list1_list2 + diff_list2_list1\n",
        "print(total_diff)"
      ],
      "execution_count": 3,
      "outputs": [
        {
          "output_type": "stream",
          "text": [
            "[7, 8]\n"
          ],
          "name": "stdout"
        }
      ]
    },
    {
      "cell_type": "markdown",
      "metadata": {
        "id": "iYy37YP8evgS"
      },
      "source": [
        " Question 3\n",
        " \n",
        "Write a Python program to get the frequency of the elements in a list"
      ]
    },
    {
      "cell_type": "code",
      "metadata": {
        "id": "b3cOR7srgy90",
        "colab": {
          "base_uri": "https://localhost:8080/"
        },
        "outputId": "eb00694e-cf3a-4742-8fe8-88edd262e6cc"
      },
      "source": [
        " \n",
        "from collections import Counter \n",
        " \n",
        "list1 = [[1,2,3,4],[1,2,3,4],[4,5,6]]\n",
        " \n",
        "print( str(list1)) \n",
        " \n",
        "res = dict(Counter(i for sub in list1 for i in set(sub))) \n",
        " \n",
        "print(\"The list frequency of elements is : \" + str(res))"
      ],
      "execution_count": 5,
      "outputs": [
        {
          "output_type": "stream",
          "text": [
            "[[1, 2, 3, 4], [1, 2, 3, 4], [4, 5, 6]]\n",
            "The list frequency of elements is : {1: 2, 2: 2, 3: 2, 4: 3, 5: 1, 6: 1}\n"
          ],
          "name": "stdout"
        }
      ]
    },
    {
      "cell_type": "markdown",
      "metadata": {
        "id": "X1JqcNIbisQ4"
      },
      "source": [
        "Question 4\n",
        " \n",
        "Write a Python program to compute the similarity between two lists.\n",
        " \n",
        "Sample data: [\"red\", \"orange\", \"green\", \"blue\", \"white\"], [\"black\", \"yellow\", \"green\", \"blue\"]\n",
        " \n",
        "Expected Output: Color1-Color2: ['white', 'orange', 'red']\n",
        " Color2-Color1: ['black', 'yellow']"
      ]
    },
    {
      "cell_type": "code",
      "metadata": {
        "id": "uOm75r-q-cu6"
      },
      "source": [
        ""
      ],
      "execution_count": null,
      "outputs": []
    },
    {
      "cell_type": "code",
      "metadata": {
        "id": "hZDhvL-oir7o"
      },
      "source": [
        "from collections import Counter\n",
        "color1 = [\"red\", \"orange\", \"green\", \"blue\", \"white\"]\n",
        "color2 = [\"black\", \"yellow\", \"green\", \"blue\"]\n",
        "counter1 = Counter(color1)\n",
        "counter2 = Counter(color2)\n",
        "print(\"Color1-Color2: \",list(counter1 - counter2))\n",
        "print(\"Color2-Color1: \",list(counter2 - counter1))"
      ],
      "execution_count": null,
      "outputs": []
    },
    {
      "cell_type": "markdown",
      "metadata": {
        "id": "tKFyQ4dYjyVT"
      },
      "source": [
        "Question 5\n",
        " \n",
        "Write a Python function that takes a list of words and returns the length of the longest one"
      ]
    },
    {
      "cell_type": "code",
      "metadata": {
        "id": "nxit_NIqj6jU"
      },
      "source": [
        "def long():\n",
        "    text = input(\"Please input a list of words to evaluate: \\n \")\n",
        " \n",
        "    longest = 0\n",
        " \n",
        "    for words in text.split():\n",
        "        if len(words) > longest:\n",
        "            longest = len(words)\n",
        "            longest_word = words\n",
        " \n",
        "    print(\"The longest word is\", longest_word, \"with length\", len(longest_word))\n",
        " \n",
        "long()"
      ],
      "execution_count": null,
      "outputs": []
    },
    {
      "cell_type": "markdown",
      "metadata": {
        "id": "kAgAOPTokZlD"
      },
      "source": [
        " Question 6\n",
        " \n",
        "Write a Python program to count the occurrences of each word in a given sentence"
      ]
    },
    {
      "cell_type": "code",
      "metadata": {
        "id": "qAxnjVxQkfoC"
      },
      "source": [
        "s=input().split()\n",
        " \n",
        "a=list(set(s))\n",
        " \n",
        "for i in a:\n",
        " \n",
        "    print(i,\"-\",s.count(i))"
      ],
      "execution_count": null,
      "outputs": []
    },
    {
      "cell_type": "markdown",
      "metadata": {
        "id": "Ei2YXKF_mJxj"
      },
      "source": [
        " Question 7\n",
        " \n",
        "Write a Python program to count and display the vowels of a given text"
      ]
    },
    {
      "cell_type": "code",
      "metadata": {
        "id": "ECELtCxRmafL"
      },
      "source": [
        "def vowel(text):\n",
        "    vowels = \"aeiuoAEIOU\"\n",
        "    print(len([letter for letter in text if letter in vowels]))\n",
        "    print([letter for letter in text if letter in vowels])\n",
        "vowel('letsupgrade')"
      ],
      "execution_count": null,
      "outputs": []
    },
    {
      "cell_type": "markdown",
      "metadata": {
        "id": "kfkuXpMCmxOK"
      },
      "source": [
        "Question 8\n",
        " \n",
        " Write a Python script to generate and print a dictionary that contains a number (between 1 and n)\n",
        "in the form (x, x*x)"
      ]
    },
    {
      "cell_type": "code",
      "metadata": {
        "id": "I1zHTollm6gj"
      },
      "source": [
        "n=int(input(\"Input a number \"))\n",
        "d = dict()\n",
        " \n",
        "for x in range(1,n+1):\n",
        "    d[x]=x*x\n",
        " \n",
        "print(d)"
      ],
      "execution_count": null,
      "outputs": []
    },
    {
      "cell_type": "markdown",
      "metadata": {
        "id": "r4do4UQ4nYvH"
      },
      "source": [
        "Question 9\n",
        " \n",
        "Write a Python program to combine two dictionary adding values for common keys\n",
        " \n",
        "● d1 = {'a': 100, 'b': 200, 'c':300}\n",
        " \n",
        "● d2 = {'a': 300, 'b': 200, 'd':400}\n",
        " \n",
        "● Sample output: Counter({'a': 400, 'b': 400, 'd': 400, 'c': 300})"
      ]
    },
    {
      "cell_type": "code",
      "metadata": {
        "id": "FyWa8DwGnePv"
      },
      "source": [
        "d1 = {'a': 100, 'b': 200, 'c':300}\n",
        " \n",
        "d2 = {'a': 300, 'b': 200, 'd':400}\n",
        " \n",
        "d3 = {}\n",
        " \n",
        "for i, j in d1.items():\n",
        " \n",
        "    for x, y in d2.items():\n",
        " \n",
        "        if i == x:\n",
        " \n",
        "            d3[i]=(j+y)\n",
        " \n",
        "print(d3)"
      ],
      "execution_count": null,
      "outputs": []
    },
    {
      "cell_type": "markdown",
      "metadata": {
        "id": "8kULFnaZnrM2"
      },
      "source": [
        " Question 10\n",
        " \n",
        "Write a Python program to print all unique values in a dictionary\n",
        " \n",
        "● Sample Data : [{\"V\":\"S001\"}, {\"V\": \"S002\"}, {\"VI\": \"S001\"}, {\"VI\": \"S005\"}, {\"VII\":\"S005\"},\n",
        "{\"V\":\"S009\"},{\"VIII\":\"S007\"}]\n",
        " \n",
        "● Expected Output : Unique Values: {'S005', 'S002', 'S007', 'S001', 'S009'}"
      ]
    },
    {
      "cell_type": "code",
      "metadata": {
        "id": "_jbtQSDYn0RV"
      },
      "source": [
        " \n",
        "List = [{\"V\":\"S001\"}, {\"V\": \"S002\"}, {\"VI\": \"S001\"}, {\"VI\": \"S005\"}, {\"VII\":\"S005\"}, {\"V\":\"S009\"},{\"VIII\":\"S007\"}]\n",
        "print(\"Original List: \",List)\n",
        "u_value = set( val for dic in List for val in dic.values())\n",
        "print(\"Unique Values: \",u_value)"
      ],
      "execution_count": null,
      "outputs": []
    }
  ]
}
