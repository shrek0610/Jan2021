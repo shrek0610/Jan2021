{
  "nbformat": 4,
  "nbformat_minor": 0,
  "metadata": {
    "colab": {
      "name": "DAY1",
      "provenance": [],
      "collapsed_sections": [],
      "include_colab_link": true
    },
    "kernelspec": {
      "name": "python3",
      "display_name": "Python 3"
    }
  },
  "cells": [
    {
      "cell_type": "markdown",
      "metadata": {
        "id": "view-in-github",
        "colab_type": "text"
      },
      "source": [
        "<a href=\"https://colab.research.google.com/github/shrek0610/Jan2021/blob/main/DAY1.ipynb\" target=\"_parent\"><img src=\"https://colab.research.google.com/assets/colab-badge.svg\" alt=\"Open In Colab\"/></a>"
      ]
    },
    {
      "cell_type": "code",
      "metadata": {
        "colab": {
          "base_uri": "https://localhost:8080/"
        },
        "id": "AMzG7NpV00is",
        "outputId": "2a223d5e-8657-4524-c5f7-b8c40f2d5399"
      },
      "source": [
        " \n",
        "#Day_2_ASSIGNMENT-1\n",
        "#Q-1For x calculate (2x+5)/(x^2+5x+6)\n",
        "x=5\n",
        "y=(2*x+5)/(x**2+5*x+6)\n",
        "y"
      ],
      "execution_count": null,
      "outputs": [
        {
          "output_type": "execute_result",
          "data": {
            "text/plain": [
              "0.26785714285714285"
            ]
          },
          "metadata": {
            "tags": []
          },
          "execution_count": 27
        }
      ]
    },
    {
      "cell_type": "code",
      "metadata": {
        "colab": {
          "base_uri": "https://localhost:8080/"
        },
        "id": "RxleC-em17tf",
        "outputId": "9ee982be-9b08-4989-c66a-c2d05d6c2677"
      },
      "source": [
        " #For x=5 calculate (x^2+5x+6)/(2x+5)\n",
        "y=(x**2+5*x+6)/(2*x+5)\n",
        "y"
      ],
      "execution_count": null,
      "outputs": [
        {
          "output_type": "execute_result",
          "data": {
            "text/plain": [
              "3.7333333333333334"
            ]
          },
          "metadata": {
            "tags": []
          },
          "execution_count": 22
        }
      ]
    },
    {
      "cell_type": "code",
      "metadata": {
        "colab": {
          "base_uri": "https://localhost:8080/"
        },
        "id": "_K8t163K2CSm",
        "outputId": "95e89e65-86d7-47d2-fcaa-c4abf5cc09d8"
      },
      "source": [
        " #For x=5 calculate (2x-3)(x+9)\n",
        "y=(2*x-3)*(x+9)\n",
        "y"
      ],
      "execution_count": null,
      "outputs": [
        {
          "output_type": "execute_result",
          "data": {
            "text/plain": [
              "98"
            ]
          },
          "metadata": {
            "tags": []
          },
          "execution_count": 23
        }
      ]
    },
    {
      "cell_type": "code",
      "metadata": {
        "id": "2plm9rJgzA-0",
        "colab": {
          "base_uri": "https://localhost:8080/"
        },
        "outputId": "76c0016d-9557-459a-86ea-794d8ac63f74"
      },
      "source": [
        " \n",
        "#Day_2_ASSIGNMENT-2\n",
        "username = \"SHRIRAG\"\n",
        "password = \"shrirag\"\n",
        " \n",
        "user1 = input(\"Please provide your username: \")\n",
        "pass1 = input(\"Please provide your password: \")\n",
        " \n",
        " \n",
        "tries = 0\n",
        "if username == user1 and password == pass1:\n",
        "    print(\"Login Sucessful!\")\n",
        "elif username != user1:\n",
        "    print(\"Username invalid!\")\n",
        "    print(\"try again once\")\n",
        "elif password != pass1:\n",
        "    while tries<5:\n",
        "        pass1 = input(\"Incorrect password, please try again: \")\n",
        "        if password == pass1:\n",
        "            print(\"Login sucessful!\")\n",
        "            break\n",
        "        tries += 1\n",
        "        print(\"You have used your \",tries,\" of 5 tries.\")\n",
        "    print(\"ACCOUNT BLOCKED!!!\\nTRY AFTER 24 HOURS!!\")"
      ],
      "execution_count": 1,
      "outputs": [
        {
          "output_type": "stream",
          "text": [
            "Please provide your username: SHRIRAG\n",
            "Please provide your password: shrirag\n",
            "Login Sucessful!\n"
          ],
          "name": "stdout"
        }
      ]
    }
  ]
}
