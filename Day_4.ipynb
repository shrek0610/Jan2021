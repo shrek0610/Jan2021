{
  "nbformat": 4,
  "nbformat_minor": 0,
  "metadata": {
    "colab": {
      "name": "Day_4.ipynb",
      "provenance": [],
      "include_colab_link": true
    },
    "kernelspec": {
      "name": "python3",
      "display_name": "Python 3"
    }
  },
  "cells": [
    {
      "cell_type": "markdown",
      "metadata": {
        "id": "view-in-github",
        "colab_type": "text"
      },
      "source": [
        "<a href=\"https://colab.research.google.com/github/shrek0610/Jan2021/blob/main/Day_4.ipynb\" target=\"_parent\"><img src=\"https://colab.research.google.com/assets/colab-badge.svg\" alt=\"Open In Colab\"/></a>"
      ]
    },
    {
      "cell_type": "markdown",
      "metadata": {
        "id": "NazWx1sXJBhN"
      },
      "source": [
        " Question 1\n",
        " \n",
        "Write a Python function to find the Max of three numbers."
      ]
    },
    {
      "cell_type": "code",
      "metadata": {
        "colab": {
          "base_uri": "https://localhost:8080/"
        },
        "id": "RgKzQuycJEeX",
        "outputId": "c7f3d53f-4744-4abb-8a7b-2bd865132493"
      },
      "source": [
        " \n",
        "def maximum(a, b, c): \n",
        " \n",
        "    if (a >= b) and (a >= c): \n",
        " \n",
        "        largest = a \n",
        " \n",
        "  \n",
        " \n",
        "    elif (b >= a) and (b >= c): \n",
        " \n",
        "        largest = b \n",
        " \n",
        "    else: \n",
        " \n",
        "        largest = c \n",
        " \n",
        "          \n",
        " \n",
        "    return largest\n",
        "a =62\n",
        " \n",
        "b =63\n",
        " \n",
        "c =64\n",
        " \n",
        "print(maximum(a, b, c))"
      ],
      "execution_count": 2,
      "outputs": [
        {
          "output_type": "stream",
          "text": [
            "64\n"
          ],
          "name": "stdout"
        }
      ]
    },
    {
      "cell_type": "markdown",
      "metadata": {
        "id": "tW0Ym8dTJR82"
      },
      "source": [
        " Question 2\n",
        "\n",
        "Write a Python function that checks whether a passed string is palindrome or not"
      ]
    },
    {
      "cell_type": "code",
      "metadata": {
        "colab": {
          "base_uri": "https://localhost:8080/"
        },
        "id": "61Usp-IgKtRv",
        "outputId": "ca923d13-af83-43ba-eaf9-ec5c66253564"
      },
      "source": [
        "def isPalindrome(s):\n",
        " \n",
        "    return s == s[::-1]\n",
        " \n",
        " \n",
        "# Driver code\n",
        " \n",
        "s = input(\"enter a STRING or NUMBER to find out palindrome or not!\\n\")\n",
        " \n",
        "ans = isPalindrome(s)\n",
        " \n",
        " \n",
        "if ans:\n",
        " \n",
        "    print(\"Yes\")\n",
        " \n",
        "else:\n",
        " \n",
        "    print(\"No\")"
      ],
      "execution_count": 3,
      "outputs": [
        {
          "output_type": "stream",
          "text": [
            "enter a STRING or NUMBER to find out palindrome or not!\n",
            "4\n",
            "Yes\n"
          ],
          "name": "stdout"
        }
      ]
    },
    {
      "cell_type": "markdown",
      "metadata": {
        "id": "dgXW7KxvK54t"
      },
      "source": [
        " Question 3\n",
        " \n",
        "Write a Python function that accepts a string and calculate the number of uppercase letters and\n",
        "lowercase letters"
      ]
    },
    {
      "cell_type": "code",
      "metadata": {
        "colab": {
          "base_uri": "https://localhost:8080/"
        },
        "id": "URx7JwX5LIpK",
        "outputId": "95cab2fc-ad02-4d3a-eba6-67fc8c45d4b7"
      },
      "source": [
        "string=input(\"Enter string:\")\n",
        "count1=0\n",
        "count2=0\n",
        "for i in string:\n",
        "      if(i.islower()):\n",
        "            count1=count1+1\n",
        "      elif(i.isupper()):\n",
        "            count2=count2+1\n",
        "print(\"The number of LOWERCASE characters is:\")\n",
        "print(count1)\n",
        "print(\"The number of UPPERCASE characters is:\")\n",
        "print(count2)"
      ],
      "execution_count": 4,
      "outputs": [
        {
          "output_type": "stream",
          "text": [
            "Enter string:2\n",
            "The number of LOWERCASE characters is:\n",
            "0\n",
            "The number of UPPERCASE characters is:\n",
            "0\n"
          ],
          "name": "stdout"
        }
      ]
    },
    {
      "cell_type": "markdown",
      "metadata": {
        "id": "7dTfX3Y5MxYm"
      },
      "source": [
        "Question 4\n",
        " \n",
        "Write a Python function to sum all the numbers in a list"
      ]
    },
    {
      "cell_type": "code",
      "metadata": {
        "colab": {
          "base_uri": "https://localhost:8080/"
        },
        "id": "c0EaZnzNN_-W",
        "outputId": "c8890ba6-ac8e-4465-f812-b17dc6936d68"
      },
      "source": [
        "def sum(numbers):\n",
        "    total = 0\n",
        "    for x in numbers:\n",
        "        total += x\n",
        "    return total\n",
        "print(sum((2,4,7,3,3)))"
      ],
      "execution_count": 6,
      "outputs": [
        {
          "output_type": "stream",
          "text": [
            "19\n"
          ],
          "name": "stdout"
        }
      ]
    },
    {
      "cell_type": "markdown",
      "metadata": {
        "id": "RnoBMX3zOp1L"
      },
      "source": [
        " Question 5\n",
        " \n",
        "Write a Python function to multiply all the numbers in a list"
      ]
    },
    {
      "cell_type": "code",
      "metadata": {
        "colab": {
          "base_uri": "https://localhost:8080/"
        },
        "id": "CCDwUTUcOuOz",
        "outputId": "9e81e6d8-0503-491d-9c66-b7e3a1548701"
      },
      "source": [
        " \n",
        "def sum(numbers):\n",
        "    total = 1\n",
        "    for x in numbers:\n",
        "        total =total*x\n",
        "    return total\n",
        "print(sum((1,2,3,4,5)))"
      ],
      "execution_count": 7,
      "outputs": [
        {
          "output_type": "stream",
          "text": [
            "120\n"
          ],
          "name": "stdout"
        }
      ]
    },
    {
      "cell_type": "markdown",
      "metadata": {
        "id": "DTF4F9sDO7hL"
      },
      "source": [
        " Question 6\n",
        " \n",
        "Write a Python function that takes a list and returns a new list with unique elements of the first list"
      ]
    },
    {
      "cell_type": "code",
      "metadata": {
        "colab": {
          "base_uri": "https://localhost:8080/"
        },
        "id": "5aBxwCeCPALl",
        "outputId": "b1d266aa-e520-42d0-aaf1-1b6c8e68b8d9"
      },
      "source": [
        "def unique_list(l):\n",
        "  x = [ ]\n",
        "  for a in l:\n",
        "    if a not in x:\n",
        "      x.append(a)\n",
        "  return x\n",
        " \n",
        "print(unique_list([1,1,2,2,3,3,4,4,5,5,6,6,7,7]))"
      ],
      "execution_count": 8,
      "outputs": [
        {
          "output_type": "stream",
          "text": [
            "[1, 2, 3, 4, 5, 6, 7]\n"
          ],
          "name": "stdout"
        }
      ]
    }
  ]
}